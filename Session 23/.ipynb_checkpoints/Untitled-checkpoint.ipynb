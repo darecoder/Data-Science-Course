{
 "cells": [
  {
   "cell_type": "code",
   "execution_count": 56,
   "metadata": {},
   "outputs": [],
   "source": [
    "data = [3, 1, 4, 5, 9]\n",
    "n = 1"
   ]
  },
  {
   "cell_type": "code",
   "execution_count": 57,
   "metadata": {},
   "outputs": [],
   "source": [
    "def solution(l):\n",
    "    # Your code here\n",
    "    result = 0\n",
    "    rev = l.sort(reverse=True)\n",
    "    for item in rev:\n",
    "        result = result*10 + item\n",
    "    if(result % 3 == 0):\n",
    "        return result\n",
    "    elif result % 3  == 1:\n",
    "        result = 0\n",
    "        for item in rev:\n",
    "            if item % 3 == 1 && !flag:\n",
    "                l.remove(item)\n",
    "                flag = True\n",
    "                continue\n",
    "            result = result*10 + item\n",
    "        return result\n",
    "    elif result % 3  == 2:\n",
    "        result = 0\n",
    "        for item in rev:\n",
    "            if item % 3 == 2 && !flag:\n",
    "                l.remove(item)\n",
    "                flag = True\n",
    "                continue\n",
    "            result = result*10 + item\n",
    "        return result          \n",
    "    else:\n",
    "        return 0"
   ]
  },
  {
   "cell_type": "code",
   "execution_count": 58,
   "metadata": {},
   "outputs": [
    {
     "name": "stdout",
     "output_type": "stream",
     "text": [
      "[9, 5, 4, 3, 1]\n"
     ]
    },
    {
     "data": {
      "text/plain": [
       "0"
      ]
     },
     "execution_count": 58,
     "metadata": {},
     "output_type": "execute_result"
    }
   ],
   "source": [
    "solution(data)"
   ]
  },
  {
   "cell_type": "code",
   "execution_count": null,
   "metadata": {},
   "outputs": [],
   "source": []
  },
  {
   "cell_type": "code",
   "execution_count": null,
   "metadata": {},
   "outputs": [],
   "source": []
  }
 ],
 "metadata": {
  "kernelspec": {
   "display_name": "Python 3",
   "language": "python",
   "name": "python3"
  },
  "language_info": {
   "codemirror_mode": {
    "name": "ipython",
    "version": 3
   },
   "file_extension": ".py",
   "mimetype": "text/x-python",
   "name": "python",
   "nbconvert_exporter": "python",
   "pygments_lexer": "ipython3",
   "version": "3.7.6"
  }
 },
 "nbformat": 4,
 "nbformat_minor": 4
}
