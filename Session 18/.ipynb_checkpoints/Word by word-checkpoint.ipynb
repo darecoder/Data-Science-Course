{
 "cells": [
  {
   "cell_type": "code",
   "execution_count": 1,
   "metadata": {},
   "outputs": [],
   "source": [
    "import nltk"
   ]
  },
  {
   "cell_type": "code",
   "execution_count": 2,
   "metadata": {},
   "outputs": [
    {
     "name": "stderr",
     "output_type": "stream",
     "text": [
      "[nltk_data] Downloading collection 'popular'\n",
      "[nltk_data]    | \n",
      "[nltk_data]    | Downloading package cmudict to\n",
      "[nltk_data]    |     /home/ekta/nltk_data...\n",
      "[nltk_data]    |   Package cmudict is already up-to-date!\n",
      "[nltk_data]    | Downloading package gazetteers to\n",
      "[nltk_data]    |     /home/ekta/nltk_data...\n",
      "[nltk_data]    |   Package gazetteers is already up-to-date!\n",
      "[nltk_data]    | Downloading package genesis to\n",
      "[nltk_data]    |     /home/ekta/nltk_data...\n",
      "[nltk_data]    |   Package genesis is already up-to-date!\n",
      "[nltk_data]    | Downloading package gutenberg to\n",
      "[nltk_data]    |     /home/ekta/nltk_data...\n",
      "[nltk_data]    |   Package gutenberg is already up-to-date!\n",
      "[nltk_data]    | Downloading package inaugural to\n",
      "[nltk_data]    |     /home/ekta/nltk_data...\n",
      "[nltk_data]    |   Package inaugural is already up-to-date!\n",
      "[nltk_data]    | Downloading package movie_reviews to\n",
      "[nltk_data]    |     /home/ekta/nltk_data...\n",
      "[nltk_data]    |   Package movie_reviews is already up-to-date!\n",
      "[nltk_data]    | Downloading package names to /home/ekta/nltk_data...\n",
      "[nltk_data]    |   Package names is already up-to-date!\n",
      "[nltk_data]    | Downloading package shakespeare to\n",
      "[nltk_data]    |     /home/ekta/nltk_data...\n",
      "[nltk_data]    |   Package shakespeare is already up-to-date!\n",
      "[nltk_data]    | Downloading package stopwords to\n",
      "[nltk_data]    |     /home/ekta/nltk_data...\n",
      "[nltk_data]    |   Package stopwords is already up-to-date!\n",
      "[nltk_data]    | Downloading package treebank to\n",
      "[nltk_data]    |     /home/ekta/nltk_data...\n",
      "[nltk_data]    |   Package treebank is already up-to-date!\n",
      "[nltk_data]    | Downloading package twitter_samples to\n",
      "[nltk_data]    |     /home/ekta/nltk_data...\n",
      "[nltk_data]    |   Package twitter_samples is already up-to-date!\n",
      "[nltk_data]    | Downloading package omw to /home/ekta/nltk_data...\n",
      "[nltk_data]    |   Package omw is already up-to-date!\n",
      "[nltk_data]    | Downloading package wordnet to\n",
      "[nltk_data]    |     /home/ekta/nltk_data...\n",
      "[nltk_data]    |   Package wordnet is already up-to-date!\n",
      "[nltk_data]    | Downloading package wordnet_ic to\n",
      "[nltk_data]    |     /home/ekta/nltk_data...\n",
      "[nltk_data]    |   Package wordnet_ic is already up-to-date!\n",
      "[nltk_data]    | Downloading package words to /home/ekta/nltk_data...\n",
      "[nltk_data]    |   Package words is already up-to-date!\n",
      "[nltk_data]    | Downloading package maxent_ne_chunker to\n",
      "[nltk_data]    |     /home/ekta/nltk_data...\n",
      "[nltk_data]    |   Package maxent_ne_chunker is already up-to-date!\n",
      "[nltk_data]    | Downloading package punkt to /home/ekta/nltk_data...\n",
      "[nltk_data]    |   Package punkt is already up-to-date!\n",
      "[nltk_data]    | Downloading package snowball_data to\n",
      "[nltk_data]    |     /home/ekta/nltk_data...\n",
      "[nltk_data]    |   Package snowball_data is already up-to-date!\n",
      "[nltk_data]    | Downloading package averaged_perceptron_tagger to\n",
      "[nltk_data]    |     /home/ekta/nltk_data...\n",
      "[nltk_data]    |   Package averaged_perceptron_tagger is already up-\n",
      "[nltk_data]    |       to-date!\n",
      "[nltk_data]    | \n",
      "[nltk_data]  Done downloading collection popular\n"
     ]
    },
    {
     "data": {
      "text/plain": [
       "True"
      ]
     },
     "execution_count": 2,
     "metadata": {},
     "output_type": "execute_result"
    }
   ],
   "source": [
    "nltk.download(\"popular\")"
   ]
  },
  {
   "cell_type": "code",
   "execution_count": 3,
   "metadata": {},
   "outputs": [],
   "source": [
    "from nltk.tokenize import sent_tokenize, word_tokenize"
   ]
  },
  {
   "cell_type": "code",
   "execution_count": 4,
   "metadata": {},
   "outputs": [],
   "source": [
    "sent = \"My name is Mr. Bruse. And I am a happy man.\""
   ]
  },
  {
   "cell_type": "code",
   "execution_count": 5,
   "metadata": {},
   "outputs": [
    {
     "data": {
      "text/plain": [
       "['My name is Mr. Bruse.', 'And I am a happy man.']"
      ]
     },
     "execution_count": 5,
     "metadata": {},
     "output_type": "execute_result"
    }
   ],
   "source": [
    "sent_tokenize(sent)"
   ]
  },
  {
   "cell_type": "code",
   "execution_count": 6,
   "metadata": {},
   "outputs": [],
   "source": [
    "line = \"1, 3, 5, 6, 5,11\""
   ]
  },
  {
   "cell_type": "code",
   "execution_count": 7,
   "metadata": {},
   "outputs": [
    {
     "data": {
      "text/plain": [
       "['1', ',', '3', ',', '5', ',', '6', ',', '5,11']"
      ]
     },
     "execution_count": 7,
     "metadata": {},
     "output_type": "execute_result"
    }
   ],
   "source": [
    "word_tokenize(line)"
   ]
  },
  {
   "cell_type": "code",
   "execution_count": 8,
   "metadata": {},
   "outputs": [],
   "source": [
    "import requests\n",
    "import random\n",
    "\n",
    "url = \"https://cb.lk/speech\"\n",
    "data = requests.get(url)\n",
    "text = data.text"
   ]
  },
  {
   "cell_type": "code",
   "execution_count": 9,
   "metadata": {},
   "outputs": [],
   "source": [
    "words = word_tokenize(text)"
   ]
  },
  {
   "cell_type": "code",
   "execution_count": 10,
   "metadata": {},
   "outputs": [],
   "source": [
    "k = 3\n",
    "\n",
    "probabs = {}\n",
    "\n",
    "for i in range(k, len(words)):\n",
    "    present = tuple(words[i-k: i])\n",
    "    future =  words[i]\n",
    "    \n",
    "    if present not in probabs:\n",
    "        probabs[present] = {}\n",
    "    \n",
    "    if future not in probabs[present]:\n",
    "        probabs[present][future] = 0\n",
    "    \n",
    "    probabs[present][future] += 1"
   ]
  },
  {
   "cell_type": "code",
   "execution_count": 16,
   "metadata": {},
   "outputs": [],
   "source": [
    "# probabs"
   ]
  },
  {
   "cell_type": "code",
   "execution_count": 12,
   "metadata": {},
   "outputs": [],
   "source": [
    "start_loc = random.randint(1000, 2000)\n",
    "\n",
    "seed = words[start_loc:start_loc + 10]"
   ]
  },
  {
   "cell_type": "code",
   "execution_count": 17,
   "metadata": {},
   "outputs": [],
   "source": [
    "for i in range(500): \n",
    "    present = tuple(seed[-k:])\n",
    "    possib = probabs[present]\n",
    "    top_items_count = 2\n",
    "    top_items = sorted(possib.items(), key=lambda item: item[1])[-top_items_count:]\n",
    "    future = random.choice(top_items)[0]\n",
    "    seed = seed + [future]"
   ]
  },
  {
   "cell_type": "code",
   "execution_count": 18,
   "metadata": {},
   "outputs": [
    {
     "data": {
      "text/plain": [
       "\", for your warm words of welcome and for your generous hospitality . Our long standing and successful track record of the ASEAN Community . Your review of the processes of East Asia Summit . Rising from a double tragedy , Malaysia has demonstrated its resilience and resolve . And , it is not a small amount , but they never receive the full amount of money . The government will fulfill the responsibilities on its end . We should not just utter the words but take solemn pledge . You will see how a tradition becomes your habit . My dear countrymen , you already know that number 1922 ... it must have become a part of this policy , it is not a part from the root to the fruit is a great honour to speak about people in this manner , don ’ t we ? Government is planning to establish Gobar Gas Plants in villages . They can express themselves , write to the government . The people have given up their cooking gas subsidies , if they do not get involved in all this . Think about all this when exams are over , whatever calculations you want to attract more Indians to enjoy the magnificence of your islands and the warmth of your hospitality , you should also prosper and set new benchmarks of development and success ! India and Myanmar are historically linked . We fought for our liberty and our dignity . We have also agreed that India will help establish a cyber security centre in Mongolia ’ s right to choose its partners . We need a Green Revolution , a White revolution and a Saffron Revolution some people may get alarmed . They will be tested through a nationwide network of nearly 1500 laboratories . This brings me to an achievement that I think even our worst critics do not dispute . This is a good example of how changes are coming about in governance . One they have decided that whatever is important for the region . We have to take the country forward , and I believe that the countries of the world . The smaller nations should be inculcated in him . Sometimes we see that an intelligent mother gets angry and does not even stagnate . Porbander is a coastal city , so potable water was collected through the rains for the entire nation , one life is not enough to do this work . Here , the village is a community , a cohesive society . Can I be a facilitator or a catalytic agent of change if it is bitter , then I will try and meet each other at every available opportunity . We have to build infrastructure for cities where almost half of our population . They have sent me a telephonic message - “ each year on Diwali we clean our houses . This Diwali let us clean our environment along with our homes and on our bodies this Diwali . I am confident it will , India would be useful for the welfare and wellbeing of others . And , we will also be happy to know that India 's foreign policy can be multi-dimensional . But there are thousands of people of the country , the media ran a special initiative . This village is famous for sugarcane production and a Kurtayi jaggery . Sri Ruwala ji started a Sugarcane Festival on 11th March . All the senior people of the country , the media ran a special campaign and showed all the places where crackers were lying and told that it was so clean ? Then I ask these people , did you like the fact that the great men of India were very far-sighted . Now you see , not what others tell you , including about the mysterious Indian consulates . You know , as you are charmed by the Indian youth coupled with our strong deterrence will make us an unbeatable power and no one deserves more credit for it than Emeritus Senior Minister Goh Chok Tong . He re-connected India to Singapore and the region . We have to take this forward . Make Yoga a part of this festival , lakhs of people will come here to tell you all that we share ; the ideals we aspire to ; and , a shared commitment to peace and stability in the region . The North Eastern Council should also consider focussing on issues in emerging areas of our discussions . I feel that this Chief Minister trusts this government to change things . And you might be interested to know that they are moving in the opposite direction . Not only this , we need to provide a level playing field in India . We have also decided that whenever I talk , it is not a small amount . They have sent in some really good suggestions . I would like to say through the medium of teachers . That is the only way . There are many things for this village and the district of Banaras which are now under my responsibility . But , it is not a part of this policy , it is not a part from the root to the fruit is a great pleasure and privilege to welcome President Putin to reform regulations so that Russian jewellery makers can send their rough diamond to India and to Delhi . Delhi is a city of heroism and valour , of art and heritage , and , environment friendly solutions to many health problems . India can be a major force of good for our world , if they produce more or less every generation is completely dedicated towards this cause . Many social , cultural and religious leaders must have contributed towards this task . Sniffer dogs have been sent as they possess the ability to trace any individual staying alive under the debris . Our whole\""
      ]
     },
     "execution_count": 18,
     "metadata": {},
     "output_type": "execute_result"
    }
   ],
   "source": [
    "\" \".join(seed)"
   ]
  },
  {
   "cell_type": "code",
   "execution_count": null,
   "metadata": {},
   "outputs": [],
   "source": []
  }
 ],
 "metadata": {
  "kernelspec": {
   "display_name": "Python 3",
   "language": "python",
   "name": "python3"
  },
  "language_info": {
   "codemirror_mode": {
    "name": "ipython",
    "version": 3
   },
   "file_extension": ".py",
   "mimetype": "text/x-python",
   "name": "python",
   "nbconvert_exporter": "python",
   "pygments_lexer": "ipython3",
   "version": "3.7.6"
  }
 },
 "nbformat": 4,
 "nbformat_minor": 4
}
