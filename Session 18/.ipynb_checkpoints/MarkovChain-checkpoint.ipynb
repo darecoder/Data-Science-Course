{
 "cells": [
  {
   "cell_type": "code",
   "execution_count": 34,
   "metadata": {},
   "outputs": [],
   "source": [
    "import requests \n",
    "import random"
   ]
  },
  {
   "cell_type": "code",
   "execution_count": 35,
   "metadata": {},
   "outputs": [],
   "source": [
    "url = \"https://cb.lk/speech\""
   ]
  },
  {
   "cell_type": "code",
   "execution_count": 36,
   "metadata": {},
   "outputs": [],
   "source": [
    "data = requests.get(url)"
   ]
  },
  {
   "cell_type": "code",
   "execution_count": 37,
   "metadata": {},
   "outputs": [],
   "source": [
    "text = data.text"
   ]
  },
  {
   "cell_type": "code",
   "execution_count": 38,
   "metadata": {},
   "outputs": [
    {
     "name": "stdout",
     "output_type": "stream",
     "text": [
      "26 8 2016, India\n",
      "Niti Aayog\n",
      "There was a time when development was believed to depend on the quantity\n"
     ]
    }
   ],
   "source": [
    "print(text[:100])"
   ]
  },
  {
   "cell_type": "code",
   "execution_count": 39,
   "metadata": {},
   "outputs": [
    {
     "data": {
      "text/plain": [
       "1725021"
      ]
     },
     "execution_count": 39,
     "metadata": {},
     "output_type": "execute_result"
    }
   ],
   "source": [
    "len(text)"
   ]
  },
  {
   "cell_type": "code",
   "execution_count": 40,
   "metadata": {},
   "outputs": [],
   "source": [
    "k = 6"
   ]
  },
  {
   "cell_type": "code",
   "execution_count": 41,
   "metadata": {},
   "outputs": [],
   "source": [
    "cut = text[1000:1500]"
   ]
  },
  {
   "cell_type": "code",
   "execution_count": 42,
   "metadata": {},
   "outputs": [
    {
     "data": {
      "text/plain": [
       "'ralism, unity and integrity, in a country of glorious diversity. These are not small achievements. Yet, we now live in an age where change is constant and we are variables.\\nWe must change for both external and internal reasons. Each country has its own experiences, its own resources and its own strengths. Thirty years ago, a country might have been able to look inward and find its own solutions. Today, countries are inter dependent and inter connected. No country can afford any longer to develop'"
      ]
     },
     "execution_count": 42,
     "metadata": {},
     "output_type": "execute_result"
    }
   ],
   "source": [
    "cut"
   ]
  },
  {
   "cell_type": "code",
   "execution_count": 43,
   "metadata": {},
   "outputs": [],
   "source": [
    "k = 6\n",
    "\n",
    "prob = {}\n",
    "\n",
    "for i in range(k, len(text)):\n",
    "    present = text[i-k: i]\n",
    "    future = text[i]\n",
    "    \n",
    "    if present not in prob:\n",
    "        prob[present] = {}\n",
    "        \n",
    "    if future not in prob[present]:\n",
    "        prob[present][future] = 0\n",
    "        \n",
    "    prob[present][future] += 1"
   ]
  },
  {
   "cell_type": "code",
   "execution_count": 44,
   "metadata": {},
   "outputs": [],
   "source": [
    "seed = \"We must change for both external\""
   ]
  },
  {
   "cell_type": "code",
   "execution_count": 54,
   "metadata": {},
   "outputs": [
    {
     "name": "stdout",
     "output_type": "stream",
     "text": [
      "We must change for both external\n"
     ]
    }
   ],
   "source": [
    "print(seed)"
   ]
  },
  {
   "cell_type": "code",
   "execution_count": 57,
   "metadata": {},
   "outputs": [],
   "source": [
    "for i in range(1000):\n",
    "    present = seed[-k:]\n",
    "    possible = prob[present]\n",
    "    top_items_count = 2\n",
    "    top_items = sorted(possible.items(), key=lambda item: item[1])[-top_items_count:]\n",
    "    future = random.choice(top_items)[0]\n",
    "    seed = seed + future"
   ]
  },
  {
   "cell_type": "code",
   "execution_count": 58,
   "metadata": {},
   "outputs": [
    {
     "data": {
      "text/plain": [
       "'We must change for both externally, while\\nmoderate an end to this.\\nI hope and sister a ceremonies. Today, we allotted a number on it. Therefor, divisions on an announce a greates therefor, law shoulder they wields of thinking of one-four military, is increment on treasury.\\nWe also.\\nMy dear cooperate toilets. I also bring together to think together its citizen and, to becomings in their\\ninterest investment that, whatever is a growth. This is to promotional connected their\\ninterest in this conferences and, the peon to this. It was always headquarter of stationship and it in technology, ideas, inclusive apprehension assistances anyone willingness. The seniors at things.\\nOne, I would lose and trade into the work that willingness today. It is a sentiment on clear power our citizen of thinking. When the chief integrity once the star hotels, and therapy machineries, is already, over a dam will breakfast meet a logically.\\n5. Establishes to try towards to breathe ancestry thriving it willingness. \\nI was shocked. This willing th'"
      ]
     },
     "execution_count": 58,
     "metadata": {},
     "output_type": "execute_result"
    }
   ],
   "source": [
    "seed"
   ]
  },
  {
   "cell_type": "code",
   "execution_count": 66,
   "metadata": {},
   "outputs": [],
   "source": [
    "text = \"\"\"Uth ja apni raakh se\n",
    "Tu udd ja ab talaash mein\n",
    "Parwaaz dekh parwane ki\n",
    "Aasman bhi sar uthayega\n",
    "Aayega apna time aayega\n",
    "Mere jaisa shaana lala\n",
    "Tujhe na mil payega\n",
    " \n",
    "Yeh shabdon ka jwala\n",
    "Meri bediyan pighlayega\n",
    "Jitna toone boya hai tu\n",
    "Utna hi to khaayega\n",
    "Aisa mera khwaab hai\n",
    "Jo darr ko bhi satayega\n",
    "Zinda mera khwaab\n",
    "Ab kaise tu dafnayega\n",
    " \n",
    "Ab hausle se jeene de\n",
    "Ab khauf nahi hai seene mein\n",
    "Har raaste ko cheerenge\n",
    "Hum kaamyabi chheenenge\n",
    "Sab kuchh mila paseene se\n",
    "Matlab bana ab jeene mein\n",
    " \n",
    "Kyon\n",
    "Kyon ki apna time aayega\n",
    " \n",
    "Tu nanga hi to aaya hai\n",
    "Kya ghanta lekar jaayega\n",
    "Apna time aayega\n",
    "Apna time aayega\n",
    "Apna time aayega x (2)\n",
    " \n",
    "Tu nanga hi to aaya hai\n",
    "Kya ghanta lekar..\n",
    " \n",
    "Kissi ka hath nahi tha sar par\n",
    "Yahaan par aaya khud ki mehnat se main\n",
    "Jitni taakat kismat mein nahi\n",
    "Utni rehmat mein hai\n",
    "Phir bhi ladka sehmat nahin hai\n",
    "Kyon ki hairat nahi hai\n",
    "Zaroorat yahaan marzi ki\n",
    "Aur jurrat ki hai\n",
    " \n",
    "Taakat ki hai, aafat ki\n",
    "Himaakat ki, ibaadat ki\n",
    "Adalat yeh hai chahat ki\n",
    "Mohobbat ki, amaanat ki\n",
    "Jeetne ki ab aadat ki hai\n",
    "Shohrat ki ab laalach nai hai\n",
    "Tere bhai jaisa koyi hard’ch nai hai\n",
    " \n",
    "Iss harkat ne hi barkat di hai\n",
    "Kyon?\"\"\""
   ]
  },
  {
   "cell_type": "code",
   "execution_count": 67,
   "metadata": {},
   "outputs": [],
   "source": [
    "seed = text[50: 200]"
   ]
  },
  {
   "cell_type": "code",
   "execution_count": 68,
   "metadata": {},
   "outputs": [],
   "source": [
    "k = 6\n",
    "\n",
    "prob = {}\n",
    "\n",
    "for i in range(k, len(text)):\n",
    "    present = text[i-k: i]\n",
    "    future = text[i]\n",
    "    \n",
    "    if present not in prob:\n",
    "        prob[present] = {}\n",
    "        \n",
    "    if future not in prob[present]:\n",
    "        prob[present][future] = 0\n",
    "        \n",
    "    prob[present][future] += 1\n",
    "\n",
    "for i in range(1000):\n",
    "    present = seed[-k:]\n",
    "    possible = prob[present]\n",
    "    top_items_count = 2\n",
    "    top_items = sorted(possible.items(), key=lambda item: item[1])[-top_items_count:]\n",
    "    future = random.choice(top_items)[0]\n",
    "    seed = seed + future"
   ]
  },
  {
   "cell_type": "code",
   "execution_count": 70,
   "metadata": {},
   "outputs": [
    {
     "name": "stdout",
     "output_type": "stream",
     "text": [
      "waaz dekh parwane ki\n",
      "Aasman bhi sar uthayega\n",
      "Aayega apna time aayega\n",
      "Mere jaisa shaana lala\n",
      "Tujhe na mil payega\n",
      " \n",
      "Yeh shabdon ka jwala\n",
      "Meri bediyan pighlayega\n",
      " \n",
      "Ab hausle se jeene mein\n",
      "Har raaste ko cheerenge\n",
      "Hum kaamyabi chheenenge\n",
      "Sab kuchh mila paseene se\n",
      "Matlab bana ab jeene mein\n",
      "Har raaste ko cheerenge\n",
      "Hum kaamyabi chheenenge\n",
      "Sab kuchh mila paseene se\n",
      "Matlab bana ab jeene de\n",
      "Ab khauf nahi tha sar par\n",
      "Yahaan marzi ki\n",
      "Aur jurrat ki ab laalach nai hai\n",
      "Kya ghanta lekar jaayega\n",
      "Apna time aayega apna time aayega apna time aayega apna time aayega x (2)\n",
      " \n",
      "Tu nanga hi to aaya hai tu\n",
      "Utna hi to khaayega x (2)\n",
      " \n",
      "Tu nanga hi to khaayega\n",
      "Apna time aayega\n",
      " \n",
      "Ab hausle se jeene de\n",
      "Ab khauf nahi tha sar par\n",
      "Yahaan marzi ki\n",
      "Aur jurrat ki hai\n",
      " \n",
      "Taakat ki, ibaadat ki\n",
      "Jeetne ki ab aadat ki\n",
      "Jeetne ki ab aadat ki ab aadat ki\n",
      "Jeetne ki ab laalach nai hai\n",
      "Kya ghanta lekar jaayega\n",
      " \n",
      "Ab hausle se jeene de\n",
      "Ab khauf nahi tha sar par\n",
      "Yahaan marzi ki\n",
      "Aur jurrat ki hai, aafat ki\n",
      "Mohobbat ki, ibaadat ki\n",
      "Mohobbat ki, amaanat ki\n",
      "Jeetne ki ab aadat ki ab aadat ki\n",
      "Mohobbat ki, ibaadat ki\n",
      "Mohobbat ki, amaanat ki\n",
      "Jeetne ki ab aadat ki hai, aafat ki\n",
      "Mohobbat ki, ibaa\n"
     ]
    }
   ],
   "source": [
    "print(seed)"
   ]
  },
  {
   "cell_type": "code",
   "execution_count": null,
   "metadata": {},
   "outputs": [],
   "source": []
  }
 ],
 "metadata": {
  "kernelspec": {
   "display_name": "Python 3",
   "language": "python",
   "name": "python3"
  },
  "language_info": {
   "codemirror_mode": {
    "name": "ipython",
    "version": 3
   },
   "file_extension": ".py",
   "mimetype": "text/x-python",
   "name": "python",
   "nbconvert_exporter": "python",
   "pygments_lexer": "ipython3",
   "version": "3.7.6"
  }
 },
 "nbformat": 4,
 "nbformat_minor": 4
}
