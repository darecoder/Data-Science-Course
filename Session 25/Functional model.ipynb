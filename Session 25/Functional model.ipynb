{
 "cells": [
  {
   "cell_type": "code",
   "execution_count": 150,
   "metadata": {},
   "outputs": [],
   "source": [
    "import numpy as np\n",
    "import matplotlib.pyplot as plt\n",
    "from sklearn.model_selection import train_test_split\n",
    "from sklearn.datasets import make_blobs\n",
    "from tensorflow.keras.datasets import mnist\n",
    "from tensorflow.keras.layers import Dense, Input, Reshape\n",
    "from tensorflow.keras.models import Model\n",
    "from sklearn.preprocessing import MinMaxScaler"
   ]
  },
  {
   "cell_type": "code",
   "execution_count": 137,
   "metadata": {},
   "outputs": [],
   "source": [
    "model = MinMaxScaler(feature_range=(0,1))"
   ]
  },
  {
   "cell_type": "code",
   "execution_count": 143,
   "metadata": {},
   "outputs": [],
   "source": [
    "(X_train, y_train), (X_test, y_test) = mnist.load_data()"
   ]
  },
  {
   "cell_type": "code",
   "execution_count": 144,
   "metadata": {},
   "outputs": [],
   "source": [
    "X_train, X_test = X_train.astype(float)/255, X_test.astype(float)/255"
   ]
  },
  {
   "cell_type": "code",
   "execution_count": 148,
   "metadata": {},
   "outputs": [
    {
     "data": {
      "text/plain": [
       "<matplotlib.image.AxesImage at 0x7f5b1c074d50>"
      ]
     },
     "execution_count": 148,
     "metadata": {},
     "output_type": "execute_result"
    },
    {
     "data": {
      "image/png": "[encoded data removed]",
      "text/plain": [
       "<Figure size 432x288 with 1 Axes>"
      ]
     },
     "metadata": {
      "needs_background": "light"
     },
     "output_type": "display_data"
    }
   ],
   "source": [
    "plt.imshow(X_train[40], cmap=\"gray\")"
   ]
  },
  {
   "cell_type": "code",
   "execution_count": 160,
   "metadata": {},
   "outputs": [],
   "source": [
    "in_layer = Input(shape=(28,28))\n",
    "l1 = Reshape(target_shape=(784,))(in_layer)\n",
    "l2 = Dense(units=100, activation=\"relu\")(l1)\n",
    "l3 = Dense(units=30, activation=\"relu\")(l2)\n",
    "l4 = Dense(units=100, activation=\"relu\")(l3)\n",
    "l5 = Dense(units=784, activation=\"relu\")(l4)\n",
    "\n",
    "out_layer = Reshape(target_shape=(28,28))(l5)"
   ]
  },
  {
   "cell_type": "code",
   "execution_count": 161,
   "metadata": {},
   "outputs": [],
   "source": [
    "model = Model(in_layer, out_layer)"
   ]
  },
  {
   "cell_type": "code",
   "execution_count": 162,
   "metadata": {},
   "outputs": [
    {
     "name": "stdout",
     "output_type": "stream",
     "text": [
      "Model: \"model_4\"\n",
      "_________________________________________________________________\n",
      "Layer (type)                 Output Shape              Param #   \n",
      "=================================================================\n",
      "input_7 (InputLayer)         [(None, 28, 28)]          0         \n",
      "_________________________________________________________________\n",
      "reshape_4 (Reshape)          (None, 784)               0         \n",
      "_________________________________________________________________\n",
      "dense_21 (Dense)             (None, 100)               78500     \n",
      "_________________________________________________________________\n",
      "dense_22 (Dense)             (None, 30)                3030      \n",
      "_________________________________________________________________\n",
      "dense_23 (Dense)             (None, 100)               3100      \n",
      "_________________________________________________________________\n",
      "dense_24 (Dense)             (None, 784)               79184     \n",
      "_________________________________________________________________\n",
      "reshape_5 (Reshape)          (None, 28, 28)            0         \n",
      "=================================================================\n",
      "Total params: 163,814\n",
      "Trainable params: 163,814\n",
      "Non-trainable params: 0\n",
      "_________________________________________________________________\n"
     ]
    }
   ],
   "source": [
    "model.summary()"
   ]
  },
  {
   "cell_type": "code",
   "execution_count": 163,
   "metadata": {},
   "outputs": [],
   "source": [
    "model.compile(optimizer=\"adam\", loss=\"mse\")"
   ]
  },
  {
   "cell_type": "code",
   "execution_count": 164,
   "metadata": {},
   "outputs": [
    {
     "name": "stdout",
     "output_type": "stream",
     "text": [
      "Epoch 1/20\n",
      "300/300 [==============================] - 2s 5ms/step - loss: 0.0355\n",
      "Epoch 2/20\n",
      "300/300 [==============================] - 1s 5ms/step - loss: 0.0208\n",
      "Epoch 3/20\n",
      "300/300 [==============================] - 1s 4ms/step - loss: 0.0193\n",
      "Epoch 4/20\n",
      "300/300 [==============================] - 1s 4ms/step - loss: 0.0184\n",
      "Epoch 5/20\n",
      "300/300 [==============================] - 1s 4ms/step - loss: 0.0177\n",
      "Epoch 6/20\n",
      "300/300 [==============================] - 1s 5ms/step - loss: 0.0174\n",
      "Epoch 7/20\n",
      "300/300 [==============================] - 1s 5ms/step - loss: 0.0172\n",
      "Epoch 8/20\n",
      "300/300 [==============================] - 1s 5ms/step - loss: 0.0170\n",
      "Epoch 9/20\n",
      "300/300 [==============================] - 1s 5ms/step - loss: 0.0167\n",
      "Epoch 10/20\n",
      "300/300 [==============================] - 1s 4ms/step - loss: 0.0165\n",
      "Epoch 11/20\n",
      "300/300 [==============================] - 1s 5ms/step - loss: 0.0163\n",
      "Epoch 12/20\n",
      "300/300 [==============================] - 1s 5ms/step - loss: 0.0161\n",
      "Epoch 13/20\n",
      "300/300 [==============================] - 1s 5ms/step - loss: 0.0159\n",
      "Epoch 14/20\n",
      "300/300 [==============================] - 1s 5ms/step - loss: 0.0158\n",
      "Epoch 15/20\n",
      "300/300 [==============================] - 1s 5ms/step - loss: 0.0157\n",
      "Epoch 16/20\n",
      "300/300 [==============================] - 1s 4ms/step - loss: 0.0156\n",
      "Epoch 17/20\n",
      "300/300 [==============================] - 1s 5ms/step - loss: 0.0155\n",
      "Epoch 18/20\n",
      "300/300 [==============================] - 1s 5ms/step - loss: 0.0154\n",
      "Epoch 19/20\n",
      "300/300 [==============================] - 1s 4ms/step - loss: 0.0153\n",
      "Epoch 20/20\n",
      "300/300 [==============================] - 1s 5ms/step - loss: 0.0153\n"
     ]
    },
    {
     "data": {
      "text/plain": [
       "<tensorflow.python.keras.callbacks.History at 0x7f5aab3c1390>"
      ]
     },
     "execution_count": 164,
     "metadata": {},
     "output_type": "execute_result"
    }
   ],
   "source": [
    "model.fit(X_train, X_train, batch_size=200, epochs=20)"
   ]
  },
  {
   "cell_type": "code",
   "execution_count": 165,
   "metadata": {},
   "outputs": [
    {
     "name": "stdout",
     "output_type": "stream",
     "text": [
      "WARNING:tensorflow:Model was constructed with shape (None, 28, 28) for input Tensor(\"input_7:0\", shape=(None, 28, 28), dtype=float32), but it was called on an input with incompatible shape (None, 784).\n"
     ]
    }
   ],
   "source": [
    "gen = model.predict(X_mod[:10])"
   ]
  },
  {
   "cell_type": "code",
   "execution_count": null,
   "metadata": {},
   "outputs": [],
   "source": []
  },
  {
   "cell_type": "code",
   "execution_count": null,
   "metadata": {},
   "outputs": [],
   "source": []
  }
 ],
 "metadata": {
  "kernelspec": {
   "display_name": "Python 3",
   "language": "python",
   "name": "python3"
  },
  "language_info": {
   "codemirror_mode": {
    "name": "ipython",
    "version": 3
   },
   "file_extension": ".py",
   "mimetype": "text/x-python",
   "name": "python",
   "nbconvert_exporter": "python",
   "pygments_lexer": "ipython3",
   "version": "3.7.6"
  }
 },
 "nbformat": 4,
 "nbformat_minor": 4
}
